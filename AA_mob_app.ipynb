{
 "cells": [
  {
   "cell_type": "code",
   "execution_count": 1,
   "id": "d8812203",
   "metadata": {},
   "outputs": [],
   "source": [
    "import numpy as np\n",
    "import pandas as pd\n",
    "from scipy import stats\n",
    "import matplotlib.pyplot as plt\n",
    "\n",
    "from tqdm.auto import tqdm"
   ]
  },
  {
   "cell_type": "markdown",
   "id": "7c780e57",
   "metadata": {},
   "source": [
    "# А/А-тестирование мобильного приложения"
   ]
  },
  {
   "cell_type": "markdown",
   "id": "20ea1e20",
   "metadata": {},
   "source": [
    "#### Известно, что сплит-система сломана. Требуется проверить утверждение о поломке и найти ее причины, если сплит-система действительно сломана"
   ]
  },
  {
   "cell_type": "code",
   "execution_count": 2,
   "id": "f568dbd7",
   "metadata": {},
   "outputs": [],
   "source": [
    "aa = pd.read_csv('aa.csv', sep=';')"
   ]
  },
  {
   "cell_type": "markdown",
   "id": "027a8f69",
   "metadata": {},
   "source": [
    "#### Описание колонок\n",
    "**experimentVariant** – вариант эксперимента<br/>\n",
    "**version** – версия приложения<br/>\n",
    "**purchase** – факт покупки"
   ]
  },
  {
   "cell_type": "code",
   "execution_count": 6,
   "id": "a107251e",
   "metadata": {},
   "outputs": [
    {
     "data": {
      "text/html": [
       "<div>\n",
       "<style scoped>\n",
       "    .dataframe tbody tr th:only-of-type {\n",
       "        vertical-align: middle;\n",
       "    }\n",
       "\n",
       "    .dataframe tbody tr th {\n",
       "        vertical-align: top;\n",
       "    }\n",
       "\n",
       "    .dataframe thead th {\n",
       "        text-align: right;\n",
       "    }\n",
       "</style>\n",
       "<table border=\"1\" class=\"dataframe\">\n",
       "  <thead>\n",
       "    <tr style=\"text-align: right;\">\n",
       "      <th></th>\n",
       "      <th>experimentVariant</th>\n",
       "      <th>version</th>\n",
       "      <th>purchase</th>\n",
       "    </tr>\n",
       "  </thead>\n",
       "  <tbody>\n",
       "    <tr>\n",
       "      <th>0</th>\n",
       "      <td>1</td>\n",
       "      <td>v2.8.0</td>\n",
       "      <td>0</td>\n",
       "    </tr>\n",
       "    <tr>\n",
       "      <th>1</th>\n",
       "      <td>0</td>\n",
       "      <td>v2.9.0</td>\n",
       "      <td>0</td>\n",
       "    </tr>\n",
       "    <tr>\n",
       "      <th>2</th>\n",
       "      <td>1</td>\n",
       "      <td>v2.9.0</td>\n",
       "      <td>0</td>\n",
       "    </tr>\n",
       "    <tr>\n",
       "      <th>3</th>\n",
       "      <td>1</td>\n",
       "      <td>v2.8.0</td>\n",
       "      <td>0</td>\n",
       "    </tr>\n",
       "    <tr>\n",
       "      <th>4</th>\n",
       "      <td>1</td>\n",
       "      <td>v2.8.0</td>\n",
       "      <td>0</td>\n",
       "    </tr>\n",
       "  </tbody>\n",
       "</table>\n",
       "</div>"
      ],
      "text/plain": [
       "   experimentVariant version  purchase\n",
       "0                  1  v2.8.0         0\n",
       "1                  0  v2.9.0         0\n",
       "2                  1  v2.9.0         0\n",
       "3                  1  v2.8.0         0\n",
       "4                  1  v2.8.0         0"
      ]
     },
     "execution_count": 6,
     "metadata": {},
     "output_type": "execute_result"
    }
   ],
   "source": [
    "aa.head()"
   ]
  },
  {
   "cell_type": "code",
   "execution_count": 9,
   "id": "c66113a3",
   "metadata": {},
   "outputs": [
    {
     "name": "stdout",
     "output_type": "stream",
     "text": [
      "<class 'pandas.core.frame.DataFrame'>\n",
      "RangeIndex: 127018 entries, 0 to 127017\n",
      "Data columns (total 3 columns):\n",
      " #   Column             Non-Null Count   Dtype \n",
      "---  ------             --------------   ----- \n",
      " 0   experimentVariant  127018 non-null  int64 \n",
      " 1   version            127018 non-null  object\n",
      " 2   purchase           127018 non-null  int64 \n",
      "dtypes: int64(2), object(1)\n",
      "memory usage: 2.9+ MB\n"
     ]
    }
   ],
   "source": [
    "aa.info()"
   ]
  },
  {
   "cell_type": "code",
   "execution_count": 14,
   "id": "d7e496f5",
   "metadata": {},
   "outputs": [],
   "source": [
    "#разделим дф на 2: эксперементальная группа 0 и эксперементальная группа 1\n",
    "aa_0 = aa.query(\"experimentVariant == 0\")\n",
    "aa_1 = aa.query(\"experimentVariant == 1\")"
   ]
  },
  {
   "cell_type": "markdown",
   "id": "4f273eb7",
   "metadata": {},
   "source": [
    "## **Запускаем A/A тест**"
   ]
  },
  {
   "cell_type": "markdown",
   "id": "fd4063a7",
   "metadata": {},
   "source": [
    "**Посчитаем результаты A/A-теста, проверяя метрику качества FPR (будем проверять на конверсии в покупку)** <br/>\n",
    "α == 0.05"
   ]
  },
  {
   "cell_type": "code",
   "execution_count": 15,
   "id": "b10444d1",
   "metadata": {},
   "outputs": [
    {
     "data": {
      "application/vnd.jupyter.widget-view+json": {
       "model_id": "fef7a0ab68664230b17bee203c58f956",
       "version_major": 2,
       "version_minor": 0
      },
      "text/plain": [
       "  0%|          | 0/1000 [00:00<?, ?it/s]"
      ]
     },
     "metadata": {},
     "output_type": "display_data"
    },
    {
     "data": {
      "image/png": "[encoded data removed]",
      "text/plain": [
       "<Figure size 432x288 with 1 Axes>"
      ]
     },
     "metadata": {
      "needs_background": "light"
     },
     "output_type": "display_data"
    },
    {
     "data": {
      "text/plain": [
       "0.93"
      ]
     },
     "execution_count": 15,
     "metadata": {},
     "output_type": "execute_result"
    }
   ],
   "source": [
    "simulations = 1000\n",
    "n_s = 1000\n",
    "res = []\n",
    "\n",
    "# Запуск симуляций A/A теста\n",
    "for i in tqdm(range(simulations)):\n",
    "    s1 = aa_0['purchase'].sample(n_s, replace = False).values\n",
    "    s2 = aa_1['purchase'].sample(n_s, replace = False).values\n",
    "    res.append(stats.ttest_ind(s1, s2, equal_var = False)[1]) # сохраняем pvalue\n",
    "\n",
    "plt.hist(res, bins = 50)\n",
    "plt.style.use('ggplot')\n",
    "plt.xlabel('pvalues')\n",
    "plt.ylabel('frequency')\n",
    "plt.title(\"Histogram of ttest A/A simulations \")\n",
    "plt.show()\n",
    "\n",
    "# Проверяем, что количество ложноположительных случаев не превышает альфа\n",
    "sum(np.array(res) < 0.05) / simulations"
   ]
  },
  {
   "cell_type": "markdown",
   "id": "a5100e7f",
   "metadata": {},
   "source": [
    "##### A/A тест не сходится !!!\n",
    "\n",
    "**FPR > α** (0.924 > 0.05)"
   ]
  },
  {
   "cell_type": "markdown",
   "id": "35a81c01",
   "metadata": {},
   "source": [
    "### Ищем причины поломки сплит-системы"
   ]
  },
  {
   "cell_type": "markdown",
   "id": "328fcb25",
   "metadata": {},
   "source": [
    "Считаем конверсию (коэффициент покупок), по варианту и версии мобильного приложения"
   ]
  },
  {
   "cell_type": "code",
   "execution_count": 19,
   "id": "633bec5c",
   "metadata": {},
   "outputs": [],
   "source": [
    "aa_0_conversion = aa_0.groupby('version', as_index=False)\\\n",
    "                    .agg({'purchase': 'sum', 'experimentVariant':'count'})\\\n",
    "                    .rename(columns={'experimentVariant':'total_purchase'})\n",
    "aa_0_conversion['conversion']=(aa_0_conversion.purchase*100/aa_0_conversion.total_purchase).round(3)"
   ]
  },
  {
   "cell_type": "code",
   "execution_count": 20,
   "id": "b7bdb30c",
   "metadata": {},
   "outputs": [
    {
     "data": {
      "text/html": [
       "<div>\n",
       "<style scoped>\n",
       "    .dataframe tbody tr th:only-of-type {\n",
       "        vertical-align: middle;\n",
       "    }\n",
       "\n",
       "    .dataframe tbody tr th {\n",
       "        vertical-align: top;\n",
       "    }\n",
       "\n",
       "    .dataframe thead th {\n",
       "        text-align: right;\n",
       "    }\n",
       "</style>\n",
       "<table border=\"1\" class=\"dataframe\">\n",
       "  <thead>\n",
       "    <tr style=\"text-align: right;\">\n",
       "      <th></th>\n",
       "      <th>version</th>\n",
       "      <th>purchase</th>\n",
       "      <th>total_purchase</th>\n",
       "      <th>conversion</th>\n",
       "    </tr>\n",
       "  </thead>\n",
       "  <tbody>\n",
       "    <tr>\n",
       "      <th>0</th>\n",
       "      <td>v2.8.0</td>\n",
       "      <td>41</td>\n",
       "      <td>41283</td>\n",
       "      <td>0.099</td>\n",
       "    </tr>\n",
       "    <tr>\n",
       "      <th>1</th>\n",
       "      <td>v2.9.0</td>\n",
       "      <td>890</td>\n",
       "      <td>11921</td>\n",
       "      <td>7.466</td>\n",
       "    </tr>\n",
       "    <tr>\n",
       "      <th>2</th>\n",
       "      <td>v3.7.4.0</td>\n",
       "      <td>252</td>\n",
       "      <td>4204</td>\n",
       "      <td>5.994</td>\n",
       "    </tr>\n",
       "    <tr>\n",
       "      <th>3</th>\n",
       "      <td>v3.8.0.0</td>\n",
       "      <td>328</td>\n",
       "      <td>5694</td>\n",
       "      <td>5.760</td>\n",
       "    </tr>\n",
       "  </tbody>\n",
       "</table>\n",
       "</div>"
      ],
      "text/plain": [
       "    version  purchase  total_purchase  conversion\n",
       "0    v2.8.0        41           41283       0.099\n",
       "1    v2.9.0       890           11921       7.466\n",
       "2  v3.7.4.0       252            4204       5.994\n",
       "3  v3.8.0.0       328            5694       5.760"
      ]
     },
     "execution_count": 20,
     "metadata": {},
     "output_type": "execute_result"
    }
   ],
   "source": [
    "aa_0_conversion"
   ]
  },
  {
   "cell_type": "code",
   "execution_count": 21,
   "id": "5768a9d1",
   "metadata": {},
   "outputs": [],
   "source": [
    "aa_1_conversion = aa_1.groupby('version', as_index=False)\\\n",
    "                    .agg({'purchase': 'sum', 'experimentVariant':'count'})\\\n",
    "                    .rename(columns={'experimentVariant':'total_purchase'})\n",
    "aa_1_conversion['conversion']=(aa_1_conversion.purchase*100/aa_0_conversion.total_purchase).round(3)"
   ]
  },
  {
   "cell_type": "code",
   "execution_count": 22,
   "id": "cd592ee2",
   "metadata": {},
   "outputs": [
    {
     "data": {
      "text/html": [
       "<div>\n",
       "<style scoped>\n",
       "    .dataframe tbody tr th:only-of-type {\n",
       "        vertical-align: middle;\n",
       "    }\n",
       "\n",
       "    .dataframe tbody tr th {\n",
       "        vertical-align: top;\n",
       "    }\n",
       "\n",
       "    .dataframe thead th {\n",
       "        text-align: right;\n",
       "    }\n",
       "</style>\n",
       "<table border=\"1\" class=\"dataframe\">\n",
       "  <thead>\n",
       "    <tr style=\"text-align: right;\">\n",
       "      <th></th>\n",
       "      <th>version</th>\n",
       "      <th>purchase</th>\n",
       "      <th>total_purchase</th>\n",
       "      <th>conversion</th>\n",
       "    </tr>\n",
       "  </thead>\n",
       "  <tbody>\n",
       "    <tr>\n",
       "      <th>0</th>\n",
       "      <td>v2.8.0</td>\n",
       "      <td>1895</td>\n",
       "      <td>41552</td>\n",
       "      <td>4.590</td>\n",
       "    </tr>\n",
       "    <tr>\n",
       "      <th>1</th>\n",
       "      <td>v2.9.0</td>\n",
       "      <td>858</td>\n",
       "      <td>12033</td>\n",
       "      <td>7.197</td>\n",
       "    </tr>\n",
       "    <tr>\n",
       "      <th>2</th>\n",
       "      <td>v3.7.4.0</td>\n",
       "      <td>266</td>\n",
       "      <td>4221</td>\n",
       "      <td>6.327</td>\n",
       "    </tr>\n",
       "    <tr>\n",
       "      <th>3</th>\n",
       "      <td>v3.8.0.0</td>\n",
       "      <td>384</td>\n",
       "      <td>6110</td>\n",
       "      <td>6.744</td>\n",
       "    </tr>\n",
       "  </tbody>\n",
       "</table>\n",
       "</div>"
      ],
      "text/plain": [
       "    version  purchase  total_purchase  conversion\n",
       "0    v2.8.0      1895           41552       4.590\n",
       "1    v2.9.0       858           12033       7.197\n",
       "2  v3.7.4.0       266            4221       6.327\n",
       "3  v3.8.0.0       384            6110       6.744"
      ]
     },
     "execution_count": 22,
     "metadata": {},
     "output_type": "execute_result"
    }
   ],
   "source": [
    "aa_1_conversion"
   ]
  },
  {
   "cell_type": "markdown",
   "id": "bde02ede",
   "metadata": {},
   "source": [
    "*На данном этапе выделяется разница в конверсии v2.8.0 (0,099 в 0 группе и 4,590 в 1 группе)*"
   ]
  },
  {
   "cell_type": "markdown",
   "id": "1bc05d7e",
   "metadata": {},
   "source": [
    "**Рассчитываем p-value для каждой версии мобильного приложения**\n"
   ]
  },
  {
   "cell_type": "code",
   "execution_count": 23,
   "id": "289c52fa",
   "metadata": {},
   "outputs": [],
   "source": [
    "from scipy.stats import norm, mannwhitneyu"
   ]
  },
  {
   "cell_type": "code",
   "execution_count": 32,
   "id": "ac5123f9",
   "metadata": {},
   "outputs": [
    {
     "name": "stdout",
     "output_type": "stream",
     "text": [
      "p-value v2.8.0: 0.0\n",
      "p-value v2.9.0: 0.32\n",
      "p-value v3.7.4.0: 0.56\n",
      "p-value v3.8.0.0: 0.23\n"
     ]
    }
   ],
   "source": [
    "print('p-value v2.8.0:',mannwhitneyu(aa.query(\"version == 'v2.8.0' & experimentVariant == 0\")['purchase'], aa.query(\"version == 'v2.8.0' & experimentVariant == 1\")['purchase'])[1])\n",
    "print('p-value v2.9.0:',mannwhitneyu(aa.query(\"version == 'v2.9.0' & experimentVariant == 0\")['purchase'], aa.query(\"version == 'v2.9.0' & experimentVariant == 1\")['purchase'])[1].round(2))\n",
    "print('p-value v3.7.4.0:',mannwhitneyu(aa.query(\"version == 'v3.7.4.0' & experimentVariant == 0\")['purchase'], aa.query(\"version == 'v3.7.4.0' & experimentVariant == 1\")['purchase'])[1].round(2))\n",
    "print('p-value v3.8.0.0:',mannwhitneyu(aa.query(\"version == 'v3.8.0.0' & experimentVariant == 0\")['purchase'], aa.query(\"version == 'v3.8.0.0' & experimentVariant == 1\")['purchase'])[1].round(2))"
   ]
  },
  {
   "cell_type": "markdown",
   "id": "3a3f95d0",
   "metadata": {},
   "source": [
    "##### Итого, pvalue < 0.05 только у версии v2.8.0. Исключаем его из дата фрейма"
   ]
  },
  {
   "cell_type": "code",
   "execution_count": 33,
   "id": "41f65fe3",
   "metadata": {},
   "outputs": [],
   "source": [
    "aa_0_new = aa.query(\"experimentVariant == 0 & version != 'v2.8.0'\")\n",
    "aa_1_new = aa.query(\"experimentVariant == 1 & version != 'v2.8.0'\")"
   ]
  },
  {
   "cell_type": "markdown",
   "id": "c93c51aa",
   "metadata": {},
   "source": [
    "### Повторно запускаем расчет FPR через A/A"
   ]
  },
  {
   "cell_type": "code",
   "execution_count": 34,
   "id": "df64d196",
   "metadata": {},
   "outputs": [
    {
     "data": {
      "application/vnd.jupyter.widget-view+json": {
       "model_id": "b1a9a696c97d4918b4d4edb9d96d5084",
       "version_major": 2,
       "version_minor": 0
      },
      "text/plain": [
       "  0%|          | 0/1000 [00:00<?, ?it/s]"
      ]
     },
     "metadata": {},
     "output_type": "display_data"
    },
    {
     "data": {
      "image/png": "[encoded data removed]",
      "text/plain": [
       "<Figure size 432x288 with 1 Axes>"
      ]
     },
     "metadata": {},
     "output_type": "display_data"
    },
    {
     "data": {
      "text/plain": [
       "0.046"
      ]
     },
     "execution_count": 34,
     "metadata": {},
     "output_type": "execute_result"
    }
   ],
   "source": [
    "simulations = 1000\n",
    "n_s = 1000\n",
    "res = []\n",
    "\n",
    "# Запуск симуляций A/A теста\n",
    "for i in tqdm(range(simulations)):\n",
    "    s1 = aa_0_new['purchase'].sample(n_s, replace = False).values\n",
    "    s2 = aa_1_new['purchase'].sample(n_s, replace = False).values\n",
    "    res.append(stats.ttest_ind(s1, s2, equal_var = False)[1]) # сохраняем pvalue\n",
    "\n",
    "plt.hist(res, bins = 50)\n",
    "plt.style.use('ggplot')\n",
    "plt.xlabel('pvalues')\n",
    "plt.ylabel('frequency')\n",
    "plt.title(\"Histogram of ttest A/A simulations \")\n",
    "plt.show()\n",
    "\n",
    "# Проверяем, что количество ложноположительных случаев не превышает альфа\n",
    "sum(np.array(res) < 0.05) / simulations"
   ]
  },
  {
   "cell_type": "markdown",
   "id": "29483dc7",
   "metadata": {},
   "source": [
    "###### A/A тест сходится !!!\n",
    "\n",
    "**FPR < α** (0.049 < 0.05)"
   ]
  },
  {
   "cell_type": "markdown",
   "id": "beaf379e",
   "metadata": {},
   "source": [
    "### Выводы\n",
    "\n",
    "Изначально была информация, что сплит-система сломана. Задача стояла проверить, действительно ли это так, и найти причины поломки.<br/>\n",
    "1. Сплит-система действительно сломана\n",
    "2. Причина поломки в сильном отличим конверсии в покупку. А именно, в версии v2.8.0\n",
    "3. После исключения версии v2.8.0 из основного датафрейма мы получили FPR < α (0.049 < 0.05), что дает нам сделать вывод, что система сплитования работает корректно\n",
    "4. Починить поломку получилось"
   ]
  }
 ],
 "metadata": {
  "kernelspec": {
   "display_name": "Python 3 (ipykernel)",
   "language": "python",
   "name": "python3"
  },
  "language_info": {
   "codemirror_mode": {
    "name": "ipython",
    "version": 3
   },
   "file_extension": ".py",
   "mimetype": "text/x-python",
   "name": "python",
   "nbconvert_exporter": "python",
   "pygments_lexer": "ipython3",
   "version": "3.9.7"
  }
 },
 "nbformat": 4,
 "nbformat_minor": 5
}
